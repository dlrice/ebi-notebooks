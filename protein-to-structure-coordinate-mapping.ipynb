{
 "cells": [
  {
   "cell_type": "code",
   "execution_count": 1,
   "metadata": {},
   "outputs": [],
   "source": [
    "import requests\n",
    "import json"
   ]
  },
  {
   "cell_type": "markdown",
   "metadata": {},
   "source": [
    "# Input:\n",
    "* protein: Amyloid-beta precursor protein P05067\n",
    "* range of the protein's amino acid sequence to highlight in associated structure:"
   ]
  },
  {
   "cell_type": "code",
   "execution_count": 2,
   "metadata": {},
   "outputs": [],
   "source": [
    "highlight = [290,300]"
   ]
  },
  {
   "cell_type": "markdown",
   "metadata": {},
   "source": [
    "# Output:\n",
    "* the corresponding highlight range for each of the protein's associated structures (which will eventually be highlighted in Mol*)\n",
    "\n",
    "First get the associated structures:"
   ]
  },
  {
   "cell_type": "code",
   "execution_count": 3,
   "metadata": {},
   "outputs": [
    {
     "data": {
      "text/plain": [
       "[{'database': 'PDB',\n",
       "  'id': '1AAP',\n",
       "  'properties': [{'key': 'Method', 'value': 'X-ray'},\n",
       "   {'key': 'Resolution', 'value': '1.50 A'},\n",
       "   {'key': 'Chains', 'value': 'A/B=287-344'}]},\n",
       " {'database': 'PDB',\n",
       "  'id': '1AMB',\n",
       "  'properties': [{'key': 'Method', 'value': 'NMR'},\n",
       "   {'key': 'Resolution', 'value': '-'},\n",
       "   {'key': 'Chains', 'value': 'A=672-699'}]},\n",
       " {'database': 'PDB',\n",
       "  'id': '1AMC',\n",
       "  'properties': [{'key': 'Method', 'value': 'NMR'},\n",
       "   {'key': 'Resolution', 'value': '-'},\n",
       "   {'key': 'Chains', 'value': 'A=672-699'}]}]"
      ]
     },
     "execution_count": 3,
     "metadata": {},
     "output_type": "execute_result"
    }
   ],
   "source": [
    "P05067 = json.loads(requests.get('https://wwwdev.ebi.ac.uk/uniprot/api/uniprotkb/accession/P05067').text)\n",
    "pdb_entries = [xref for xref in P05067['uniProtKBCrossReferences'] if xref['database'] == 'PDB']\n",
    "pdb_entries[:3]"
   ]
  },
  {
   "cell_type": "markdown",
   "metadata": {},
   "source": [
    "The first structure (1AAP) has two chains A/B which use the positions 287-344 from the amino acid sequence and are within the highlight range. PDBe provides mappings (as assigned by the SIFTS process) from PDB structures to UniProt so fetch this data for 1AAP:"
   ]
  },
  {
   "cell_type": "code",
   "execution_count": 4,
   "metadata": {},
   "outputs": [
    {
     "data": {
      "text/plain": [
       "{'1aap': {'UniProt': {'P05067': {'identifier': 'A4_HUMAN',\n",
       "    'name': 'A4_HUMAN',\n",
       "    'mappings': [{'entity_id': 1,\n",
       "      'chain_id': 'A',\n",
       "      'start': {'author_residue_number': 1,\n",
       "       'author_insertion_code': '',\n",
       "       'residue_number': 1},\n",
       "      'unp_end': 344,\n",
       "      'unp_start': 287,\n",
       "      'end': {'author_residue_number': None,\n",
       "       'author_insertion_code': '',\n",
       "       'residue_number': 58},\n",
       "      'struct_asym_id': 'A'},\n",
       "     {'entity_id': 1,\n",
       "      'chain_id': 'B',\n",
       "      'start': {'author_residue_number': 1,\n",
       "       'author_insertion_code': '',\n",
       "       'residue_number': 1},\n",
       "      'unp_end': 344,\n",
       "      'unp_start': 287,\n",
       "      'end': {'author_residue_number': None,\n",
       "       'author_insertion_code': '',\n",
       "       'residue_number': 58},\n",
       "      'struct_asym_id': 'B'}]}}}}"
      ]
     },
     "execution_count": 4,
     "metadata": {},
     "output_type": "execute_result"
    }
   ],
   "source": [
    "j = json.loads(requests.get('https://www.ebi.ac.uk/pdbe/api/mappings/uniprot/1AAP').text)\n",
    "j"
   ]
  },
  {
   "cell_type": "code",
   "execution_count": 5,
   "metadata": {},
   "outputs": [
    {
     "data": {
      "text/plain": [
       "[{'entity_id': 1,\n",
       "  'chain_id': 'A',\n",
       "  'start': {'author_residue_number': 1,\n",
       "   'author_insertion_code': '',\n",
       "   'residue_number': 1},\n",
       "  'unp_end': 344,\n",
       "  'unp_start': 287,\n",
       "  'end': {'author_residue_number': None,\n",
       "   'author_insertion_code': '',\n",
       "   'residue_number': 58},\n",
       "  'struct_asym_id': 'A'},\n",
       " {'entity_id': 1,\n",
       "  'chain_id': 'B',\n",
       "  'start': {'author_residue_number': 1,\n",
       "   'author_insertion_code': '',\n",
       "   'residue_number': 1},\n",
       "  'unp_end': 344,\n",
       "  'unp_start': 287,\n",
       "  'end': {'author_residue_number': None,\n",
       "   'author_insertion_code': '',\n",
       "   'residue_number': 58},\n",
       "  'struct_asym_id': 'B'}]"
      ]
     },
     "execution_count": 5,
     "metadata": {},
     "output_type": "execute_result"
    }
   ],
   "source": [
    "mappings = list(j.values())[0]['UniProt']['P05067']['mappings']\n",
    "mappings"
   ]
  },
  {
   "cell_type": "markdown",
   "metadata": {},
   "source": [
    "Calculate the offset:"
   ]
  },
  {
   "cell_type": "code",
   "execution_count": 6,
   "metadata": {},
   "outputs": [
    {
     "data": {
      "text/plain": [
       "286"
      ]
     },
     "execution_count": 6,
     "metadata": {},
     "output_type": "execute_result"
    }
   ],
   "source": [
    "mapping = mappings[0]\n",
    "offset = mapping['unp_start'] - mapping['start']['residue_number']\n",
    "offset"
   ]
  },
  {
   "cell_type": "markdown",
   "metadata": {},
   "source": [
    "Subtract the offset from the protein highlight range to get the final range to highlight in the structure:"
   ]
  },
  {
   "cell_type": "code",
   "execution_count": 7,
   "metadata": {},
   "outputs": [
    {
     "data": {
      "text/plain": [
       "[4, 14]"
      ]
     },
     "execution_count": 7,
     "metadata": {},
     "output_type": "execute_result"
    }
   ],
   "source": [
    "mapped_highlight = [el - offset for el in highlight]\n",
    "mapped_highlight"
   ]
  },
  {
   "cell_type": "markdown",
   "metadata": {},
   "source": [
    "# Double check:\n",
    "Ensure that the protein's sequence highlight range and the structure's sequence are the same.\n",
    "\n",
    "First get the protein sequence:"
   ]
  },
  {
   "cell_type": "code",
   "execution_count": 8,
   "metadata": {},
   "outputs": [
    {
     "data": {
      "text/plain": [
       "'MLPGLALLLLAAWTARALEVPTDGNAGLLAEPQIAMFCGRLNMHMNVQNGKWDSDPSGTKTCIDTKEGILQYCQEVYPELQITNVVEANQPVTIQNWCKRGRKQCKTHPHFVIPYRCLVGEFVSDALLVPDKCKFLHQERMDVCETHLHWHTVAKETCSEKSTNLHDYGMLLPCGIDKFRGVEFVCCPLAEESDNVDSADAEEDDSDVWWGGADTDYADGSEDKVVEVAEEEEVAEVEEEEADDDEDDEDGDEVEEEAEEPYEEATERTTSIATTTTTTTESVEEVVREVCSEQAETGPCRAMISRWYFDVTEGKCAPFFYGGCGGNRNNFDTEEYCMAVCGSAMSQSLLKTTQEPLARDPVKLPTTAASTPDAVDKYLETPGDENEHAHFQKAKERLEAKHRERMSQVMREWEEAERQAKNLPKADKKAVIQHFQEKVESLEQEAANERQQLVETHMARVEAMLNDRRRLALENYITALQAVPPRPRHVFNMLKKYVRAEQKDRQHTLKHFEHVRMVDPKKAAQIRSQVMTHLRVIYERMNQSLSLLYNVPAVAEEIQDEVDELLQKEQNYSDDVLANMISEPRISYGNDALMPSLTETKTTVELLPVNGEFSLDDLQPWHSFGADSVPANTENEVEPVDARPAADRGLTTRPGSGLTNIKTEEISEVKMDAEFRHDSGYEVHHQKLVFFAEDVGSNKGAIIGLMVGGVVIATVIVITLVMLKKKQYTSIHHGVVEVDAAVTPEERHLSKMQQNGYENPTYKFFEQMQN'"
      ]
     },
     "execution_count": 8,
     "metadata": {},
     "output_type": "execute_result"
    }
   ],
   "source": [
    "r = requests.get('https://www.uniprot.org/uniprot/P05067.fasta').text\n",
    "A4 = ''.join(r.split('\\n')[1:])\n",
    "A4"
   ]
  },
  {
   "cell_type": "markdown",
   "metadata": {},
   "source": [
    "Then get the sequence for the structure:"
   ]
  },
  {
   "cell_type": "code",
   "execution_count": 9,
   "metadata": {},
   "outputs": [
    {
     "data": {
      "text/plain": [
       "'VREVCSEQAETGPCRAMISRWYFDVTEGKCAPFFYGGCGGNRNNFDTEEYCMAVCGSA'"
      ]
     },
     "execution_count": 9,
     "metadata": {},
     "output_type": "execute_result"
    }
   ],
   "source": [
    "r = requests.get('https://www.rcsb.org/fasta/entry/1AAP/display').text\n",
    "AAP = r.split('\\n')[1]\n",
    "AAP"
   ]
  },
  {
   "cell_type": "code",
   "execution_count": 10,
   "metadata": {},
   "outputs": [
    {
     "data": {
      "text/plain": [
       "'CSEQAETGPC'"
      ]
     },
     "execution_count": 10,
     "metadata": {},
     "output_type": "execute_result"
    }
   ],
   "source": [
    "highlight_protein = A4[highlight[0]: highlight[1]]\n",
    "highlight_protein"
   ]
  },
  {
   "cell_type": "code",
   "execution_count": 11,
   "metadata": {},
   "outputs": [
    {
     "data": {
      "text/plain": [
       "'CSEQAETGPC'"
      ]
     },
     "execution_count": 11,
     "metadata": {},
     "output_type": "execute_result"
    }
   ],
   "source": [
    "highlight_structure = AAP[mapped_highlight[0]:mapped_highlight[1]]\n",
    "highlight_structure"
   ]
  },
  {
   "cell_type": "markdown",
   "metadata": {},
   "source": [
    "Make sure they are equal:"
   ]
  },
  {
   "cell_type": "code",
   "execution_count": 12,
   "metadata": {},
   "outputs": [],
   "source": [
    "assert highlight_protein == highlight_structure"
   ]
  }
 ],
 "metadata": {
  "kernelspec": {
   "display_name": "Python 3",
   "language": "python",
   "name": "python3"
  },
  "language_info": {
   "codemirror_mode": {
    "name": "ipython",
    "version": 3
   },
   "file_extension": ".py",
   "mimetype": "text/x-python",
   "name": "python",
   "nbconvert_exporter": "python",
   "pygments_lexer": "ipython3",
   "version": "3.7.9"
  }
 },
 "nbformat": 4,
 "nbformat_minor": 4
}
